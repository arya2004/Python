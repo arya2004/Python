{
 "cells": [
  {
   "cell_type": "code",
   "execution_count": null,
   "metadata": {
    "tags": []
   },
   "outputs": [],
   "source": [
    "s = (1, 2, 3, 4, 5, 6, 7, 8, 9, 0)\n",
    "for i in s:\n",
    "    for u in s:\n",
    "        for y in s:\n",
    "            if i + u + y == 3:\n",
    "               print(i, u, y)"
   ]
  },
  {
   "cell_type": "code",
   "execution_count": null,
   "metadata": {
    "tags": []
   },
   "outputs": [],
   "source": [
    "x = 1\n",
    "while x <= 100:\n",
    "    if x % 3 == 0 and x % 5 == 0:\n",
    "        print(\"fizzBuzz\")\n",
    "    elif x % 3 == 0:\n",
    "        print(\"Fizz\")\n",
    "    elif x % 5 == 0:\n",
    "        print(\"Buzz\")\n",
    "    else:\n",
    "        print(x)\n",
    "    x += 1    "
   ]
  },
  {
   "cell_type": "code",
   "execution_count": null,
   "metadata": {},
   "outputs": [],
   "source": [
    "def maximum(x, y):\n",
    "    return(max(x, y))\n",
    "maximum(4, 32)"
   ]
  },
  {
   "cell_type": "code",
   "execution_count": null,
   "metadata": {
    "tags": []
   },
   "outputs": [],
   "source": [
    "def speedChecker(speed):\n",
    "    if speed > 70:\n",
    "        x = (speed - 70)//5\n",
    "        if x >= 12:\n",
    "            print(\"license suspended\")\n",
    "        else:\n",
    "            print(f\"Point: {x}\")\n",
    "    else:\n",
    "        print(\"Ok\")\n",
    "speedChecker(100)"
   ]
  },
  {
   "cell_type": "code",
   "execution_count": null,
   "metadata": {
    "tags": []
   },
   "outputs": [],
   "source": [
    "def showNummbers(limit):\n",
    "    for i in range(limit + 1):\n",
    "        if i % 2 == 1:\n",
    "            print(f\"{i} Odd\")\n",
    "        else:\n",
    "            print(f\"{i} even\")\n",
    "showNummbers(16)"
   ]
  },
  {
   "cell_type": "code",
   "execution_count": null,
   "metadata": {
    "tags": []
   },
   "outputs": [],
   "source": [
    "def multiplesOfFivAndThree(limits):\n",
    "    for i in range(1 , limits + 1):\n",
    "        if i % 3 == 0 or i % 5 == 0:\n",
    "            print(i)\n",
    "multiplesOfFivAndThree(20)"
   ]
  },
  {
   "cell_type": "code",
   "execution_count": 13,
   "metadata": {
    "tags": []
   },
   "outputs": [
    {
     "output_type": "stream",
     "name": "stdout",
     "text": "not prime\n"
    }
   ],
   "source": [
    "def prime(num):\n",
    "    if num > 1:\n",
    "        for i in range (2, num):\n",
    "            if (num % i) == 0:\n",
    "                print(\"not prime\")\n",
    "                break\n",
    "        else:\n",
    "            print(\"prime\")\n",
    "    else:\n",
    "        print(\"not prime\")\n",
    "prime(9)"
   ]
  },
  {
   "cell_type": "code",
   "execution_count": null,
   "metadata": {},
   "outputs": [],
   "source": []
  }
 ],
 "metadata": {
  "kernelspec": {
   "display_name": "Python 3",
   "language": "python",
   "name": "python3"
  },
  "language_info": {
   "codemirror_mode": {
    "name": "ipython",
    "version": 3
   },
   "file_extension": ".py",
   "mimetype": "text/x-python",
   "name": "python",
   "nbconvert_exporter": "python",
   "pygments_lexer": "ipython3",
   "version": "3.8.3-final"
  }
 },
 "nbformat": 4,
 "nbformat_minor": 4
}