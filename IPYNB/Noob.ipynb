{
 "metadata": {
  "language_info": {
   "codemirror_mode": {
    "name": "ipython",
    "version": 3
   },
   "file_extension": ".py",
   "mimetype": "text/x-python",
   "name": "python",
   "nbconvert_exporter": "python",
   "pygments_lexer": "ipython3",
   "version": "3.8.3-final"
  },
  "orig_nbformat": 2,
  "kernelspec": {
   "name": "Python 3.8.3 64-bit ('base': conda)",
   "display_name": "Python 3.8.3 64-bit ('base': conda)",
   "metadata": {
    "interpreter": {
     "hash": "7d412e8b7f03f1c3dd1eee412d06ea09a5a228e07e269aa871cc030cea5d9c80"
    }
   }
  }
 },
 "nbformat": 4,
 "nbformat_minor": 2,
 "cells": [
  {
   "cell_type": "code",
   "execution_count": 51,
   "metadata": {
    "tags": []
   },
   "outputs": [
    {
     "output_type": "stream",
     "name": "stdout",
     "text": "12345678\n['hello']\n"
    }
   ],
   "source": [
    "friends = {\n",
    "    \"noe\" : {\"phone\" : 12345678,\n",
    "    \"email\" : \"none@email\" },\n",
    "    \"hello\" : {\"phone\" : 987654,\n",
    "    \"email\" : \"hello@gmail\" },\n",
    "    \"world\" : {\"phone\" : 1928374,\n",
    "    \"email\" : \"world@fmail\" }\n",
    "}\n",
    "print(friends[\"noe\"][\"phone\"])\n",
    "a = []\n",
    "for i in friends:\n",
    "    if friends[i][\"phone\"] == 987654:\n",
    "        a.append(i)\n",
    "print(a"
   ]
  },
  {
   "cell_type": "code",
   "execution_count": 4,
   "metadata": {
    "tags": []
   },
   "outputs": [
    {
     "output_type": "stream",
     "name": "stdout",
     "text": "3 8 9\n3 9 8\n4 7 9\n4 9 7\n5 6 9\n5 7 8\n5 8 7\n5 9 6\n6 5 9\n6 9 5\n7 4 9\n7 5 8\n7 8 5\n7 9 4\n8 3 9\n8 5 7\n8 7 5\n8 9 3\n9 3 8\n9 4 7\n9 5 6\n9 6 5\n9 7 4\n9 8 3\n"
    }
   ],
   "source": [
    "s = (1, 2, 3, 4, 5, 6, 7, 8, 9, 0)\n",
    "for i in s:\n",
    "    for u in s:\n",
    "        for y in s:\n",
    "            if i + u + y == 20 and i != u and u != y and i != y:\n",
    "                print(i, u, y)\n",
    "                "
   ]
  },
  {
   "cell_type": "code",
   "execution_count": null,
   "metadata": {},
   "outputs": [],
   "source": []
  }
 ]
}