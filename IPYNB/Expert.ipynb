{
 "metadata": {
  "language_info": {
   "codemirror_mode": {
    "name": "ipython",
    "version": 3
   },
   "file_extension": ".py",
   "mimetype": "text/x-python",
   "name": "python",
   "nbconvert_exporter": "python",
   "pygments_lexer": "ipython3",
   "version": "3.8.3-final"
  },
  "orig_nbformat": 2,
  "kernelspec": {
   "name": "Python 3.8.3 64-bit ('base': conda)",
   "display_name": "Python 3.8.3 64-bit ('base': conda)",
   "metadata": {
    "interpreter": {
     "hash": "7d412e8b7f03f1c3dd1eee412d06ea09a5a228e07e269aa871cc030cea5d9c80"
    }
   }
  }
 },
 "nbformat": 4,
 "nbformat_minor": 2,
 "cells": [
  {
   "cell_type": "code",
   "execution_count": 5,
   "metadata": {
    "tags": []
   },
   "outputs": [
    {
     "output_type": "stream",
     "name": "stdout",
     "text": "&lt;re.Match object; span=(15, 29), match=&#39;@applemail.com&#39;&gt;\n"
    }
   ],
   "source": [
    "# Regular ecpressions\n",
    "import re\n",
    "email = \"arya.pathak2004@applemail.com\"\n",
    "checker = re.compile(\"@gmail.com|@applemail.com\")\n",
    "print(checker.search(email))"
   ]
  },
  {
   "cell_type": "code",
   "execution_count": 4,
   "metadata": {
    "tags": []
   },
   "outputs": [
    {
     "output_type": "stream",
     "name": "stdout",
     "text": "2020-10-05 02:56:02.394510\n2020-10-04 21:56:02.394510\n04 October ,2020\n04 October ,2020\n"
    }
   ],
   "source": [
    "import datetime as dt\n",
    "bday = dt.datetime(2004, 1, 20, 10, 30, 23, 12)\n",
    "\n",
    "print(dt.datetime.today() + dt.timedelta(hours=5))\n",
    "print(dt.datetime.now())\n",
    "x = (dt.date.today().strftime(\"%d %B ,%Y\"))\n",
    "print(x)\n",
    "print(x)"
   ]
  },
  {
   "cell_type": "code",
   "execution_count": null,
   "metadata": {},
   "outputs": [],
   "source": []
  }
 ]
}