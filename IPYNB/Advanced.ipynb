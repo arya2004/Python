{
 "metadata": {
  "language_info": {
   "codemirror_mode": {
    "name": "ipython",
    "version": 3
   },
   "file_extension": ".py",
   "mimetype": "text/x-python",
   "name": "python",
   "nbconvert_exporter": "python",
   "pygments_lexer": "ipython3",
   "version": "3.8.3-final"
  },
  "orig_nbformat": 2,
  "kernelspec": {
   "name": "Python 3.8.3 64-bit ('base': conda)",
   "display_name": "Python 3.8.3 64-bit ('base': conda)",
   "metadata": {
    "interpreter": {
     "hash": "7d412e8b7f03f1c3dd1eee412d06ea09a5a228e07e269aa871cc030cea5d9c80"
    }
   }
  }
 },
 "nbformat": 4,
 "nbformat_minor": 2,
 "cells": [
  {
   "cell_type": "code",
   "execution_count": 48,
   "metadata": {
    "tags": []
   },
   "outputs": [
    {
     "output_type": "stream",
     "name": "stdout",
     "text": "1\n2\nFizz\n4\nBuzz\nFizz\n"
    }
   ],
   "source": [
    "x = 1\n",
    "while x <= 6:\n",
    "    if x % 3 == 0 and x % 5 == 0:\n",
    "        print(\"fizzBuzz\")\n",
    "    elif x % 3 == 0:\n",
    "        print(\"Fizz\")\n",
    "    elif x % 5 == 0:\n",
    "        print(\"Buzz\")\n",
    "    else:\n",
    "        print(x)\n",
    "    x += 1"
   ]
  },
  {
   "cell_type": "code",
   "execution_count": 49,
   "metadata": {},
   "outputs": [
    {
     "output_type": "execute_result",
     "data": {
      "text/plain": "3.15"
     },
     "metadata": {},
     "execution_count": 49
    }
   ],
   "source": [
    "import random\n",
    "def point(n):    \n",
    "    num_point_circle = 0\n",
    "    num_point_total = 0\n",
    "    for i in range(n):\n",
    "        x = random.uniform(0, 1)\n",
    "        y = random.uniform(0, 1)\n",
    "        distance = x**2 + y**2\n",
    "        if distance <= 1:\n",
    "            num_point_circle += 1\n",
    "        num_point_total += 1\n",
    "    return 4 * num_point_circle / num_point_total\n",
    "point(10000)\n"
   ]
  },
  {
   "cell_type": "code",
   "execution_count": 50,
   "metadata": {
    "tags": []
   },
   "outputs": [
    {
     "output_type": "stream",
     "name": "stdout",
     "text": "[(1, &#39;a&#39;), (2, &#39;b&#39;), (3, &#39;c&#39;), (4, &#39;d&#39;), (5, &#39;e&#39;), (6, &#39;f&#39;)]\n[(1, 2, 3, 4, 5, 6), (&#39;a&#39;, &#39;b&#39;, &#39;c&#39;, &#39;d&#39;, &#39;e&#39;, &#39;f&#39;)]\n"
    }
   ],
   "source": [
    "x = [1, 2, 3, 4, 5, 6]\n",
    "z = ['a', 'b', 'c', 'd', 'e', 'f']\n",
    "zeep = (list(zip(x, z)))\n",
    "print(zeep)\n",
    "inzeep = list(zip(*zeep))\n",
    "print(inzeep)"
   ]
  },
  {
   "cell_type": "code",
   "execution_count": null,
   "metadata": {},
   "outputs": [],
   "source": []
  }
 ]
}